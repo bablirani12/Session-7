{
 "cells": [
  {
   "cell_type": "markdown",
   "id": "4ed25eb4",
   "metadata": {},
   "source": [
    "# Functions"
   ]
  },
  {
   "cell_type": "code",
   "execution_count": 1,
   "id": "b8172b8d",
   "metadata": {},
   "outputs": [
    {
     "name": "stdout",
     "output_type": "stream",
     "text": [
      "\n",
      "Welcome to Python 3.9's help utility!\n",
      "\n",
      "If this is your first time using Python, you should definitely check out\n",
      "the tutorial on the Internet at https://docs.python.org/3.9/tutorial/.\n",
      "\n",
      "Enter the name of any module, keyword, or topic to get help on writing\n",
      "Python programs and using Python modules.  To quit this help utility and\n",
      "return to the interpreter, just type \"quit\".\n",
      "\n",
      "To get a list of available modules, keywords, symbols, or topics, type\n",
      "\"modules\", \"keywords\", \"symbols\", or \"topics\".  Each module also comes\n",
      "with a one-line summary of what it does; to list the modules whose name\n",
      "or summary contain a given string such as \"spam\", type \"modules spam\".\n",
      "\n",
      "help> help(keywords)\n",
      "No Python documentation found for 'help(keywords)'.\n",
      "Use help() to get the interactive help utility.\n",
      "Use help(str) for help on the str class.\n",
      "\n",
      "\n",
      "You are now leaving help and returning to the Python interpreter.\n",
      "If you want to ask for help on a particular object directly from the\n",
      "interpreter, you can type \"help(object)\".  Executing \"help('string')\"\n",
      "has the same effect as typing a particular string at the help> prompt.\n",
      "help> keywords\n"
     ]
    }
   ],
   "source": [
    "help()"
   ]
  },
  {
   "cell_type": "code",
   "execution_count": 4,
   "id": "db4a25f6",
   "metadata": {},
   "outputs": [
    {
     "name": "stdout",
     "output_type": "stream",
     "text": [
      "\n",
      "Here is a list of the Python keywords.  Enter any keyword to get more help.\n",
      "\n",
      "False               break               for                 not\n",
      "None                class               from                or\n",
      "True                continue            global              pass\n",
      "__peg_parser__      def                 if                  raise\n",
      "and                 del                 import              return\n",
      "as                  elif                in                  try\n",
      "assert              else                is                  while\n",
      "async               except              lambda              with\n",
      "await               finally             nonlocal            yield\n",
      "\n"
     ]
    }
   ],
   "source": [
    "help(\"keywords\")"
   ]
  },
  {
   "cell_type": "code",
   "execution_count": 5,
   "id": "beecdbcb",
   "metadata": {},
   "outputs": [
    {
     "name": "stdout",
     "output_type": "stream",
     "text": [
      "Help on built-in function len in module builtins:\n",
      "\n",
      "len(obj, /)\n",
      "    Return the number of items in a container.\n",
      "\n"
     ]
    }
   ],
   "source": [
    "help(len)"
   ]
  },
  {
   "cell_type": "code",
   "execution_count": 6,
   "id": "fac6d909",
   "metadata": {},
   "outputs": [
    {
     "name": "stdout",
     "output_type": "stream",
     "text": [
      "Help on built-in function min in module builtins:\n",
      "\n",
      "min(...)\n",
      "    min(iterable, *[, default=obj, key=func]) -> value\n",
      "    min(arg1, arg2, *args, *[, key=func]) -> value\n",
      "    \n",
      "    With a single iterable argument, return its smallest item. The\n",
      "    default keyword-only argument specifies an object to return if\n",
      "    the provided iterable is empty.\n",
      "    With two or more arguments, return the smallest argument.\n",
      "\n"
     ]
    }
   ],
   "source": [
    "help(min)"
   ]
  },
  {
   "cell_type": "code",
   "execution_count": 7,
   "id": "3043dfd7",
   "metadata": {},
   "outputs": [
    {
     "name": "stdout",
     "output_type": "stream",
     "text": [
      "Help on built-in function max in module builtins:\n",
      "\n",
      "max(...)\n",
      "    max(iterable, *[, default=obj, key=func]) -> value\n",
      "    max(arg1, arg2, *args, *[, key=func]) -> value\n",
      "    \n",
      "    With a single iterable argument, return its biggest item. The\n",
      "    default keyword-only argument specifies an object to return if\n",
      "    the provided iterable is empty.\n",
      "    With two or more arguments, return the largest argument.\n",
      "\n"
     ]
    }
   ],
   "source": [
    "help(max)"
   ]
  },
  {
   "cell_type": "code",
   "execution_count": 8,
   "id": "c8b7bd47",
   "metadata": {},
   "outputs": [
    {
     "name": "stdout",
     "output_type": "stream",
     "text": [
      "Help on method raw_input in module ipykernel.kernelbase:\n",
      "\n",
      "raw_input(prompt='') method of ipykernel.ipkernel.IPythonKernel instance\n",
      "    Forward raw_input to frontends\n",
      "    \n",
      "    Raises\n",
      "    ------\n",
      "    StdinNotImplementedError if active frontend doesn't support stdin.\n",
      "\n"
     ]
    }
   ],
   "source": [
    "help(input)"
   ]
  },
  {
   "cell_type": "code",
   "execution_count": 9,
   "id": "448bfa29",
   "metadata": {},
   "outputs": [],
   "source": [
    "k=[50,44,33,99,77,22]"
   ]
  },
  {
   "cell_type": "code",
   "execution_count": 10,
   "id": "2ced8e30",
   "metadata": {},
   "outputs": [
    {
     "data": {
      "text/plain": [
       "22"
      ]
     },
     "execution_count": 10,
     "metadata": {},
     "output_type": "execute_result"
    }
   ],
   "source": [
    "min(k)"
   ]
  },
  {
   "cell_type": "code",
   "execution_count": 12,
   "id": "aed79c95",
   "metadata": {},
   "outputs": [
    {
     "data": {
      "text/plain": [
       "99"
      ]
     },
     "execution_count": 12,
     "metadata": {},
     "output_type": "execute_result"
    }
   ],
   "source": [
    "max(k)"
   ]
  },
  {
   "cell_type": "markdown",
   "id": "1db80e52",
   "metadata": {},
   "source": [
    "User defined functions"
   ]
  },
  {
   "cell_type": "code",
   "execution_count": 14,
   "id": "c449f1eb",
   "metadata": {},
   "outputs": [],
   "source": [
    "# function definition\n",
    "\n",
    "def function():\n",
    "    print(\"Learning functions\")"
   ]
  },
  {
   "cell_type": "code",
   "execution_count": 15,
   "id": "eb36dd1b",
   "metadata": {},
   "outputs": [
    {
     "name": "stdout",
     "output_type": "stream",
     "text": [
      "Learning functions\n"
     ]
    }
   ],
   "source": [
    "#function calling\n",
    "\n",
    "function()"
   ]
  },
  {
   "cell_type": "code",
   "execution_count": 17,
   "id": "35bb5fcc",
   "metadata": {},
   "outputs": [],
   "source": [
    "def myfunction():\n",
    "    print(\"Learning data\")"
   ]
  },
  {
   "cell_type": "code",
   "execution_count": 18,
   "id": "316815c9",
   "metadata": {},
   "outputs": [
    {
     "name": "stdout",
     "output_type": "stream",
     "text": [
      "Learning data\n"
     ]
    }
   ],
   "source": [
    "myfunction()"
   ]
  },
  {
   "cell_type": "code",
   "execution_count": 20,
   "id": "5389a3f8",
   "metadata": {},
   "outputs": [],
   "source": [
    "def addition():\n",
    "    a=10\n",
    "    b=5\n",
    "    c=a+b\n",
    "    print(\"c=\", c)"
   ]
  },
  {
   "cell_type": "code",
   "execution_count": 21,
   "id": "bf32f53f",
   "metadata": {},
   "outputs": [
    {
     "name": "stdout",
     "output_type": "stream",
     "text": [
      "c= 15\n"
     ]
    }
   ],
   "source": [
    "addition()"
   ]
  },
  {
   "cell_type": "code",
   "execution_count": 22,
   "id": "51839ada",
   "metadata": {},
   "outputs": [],
   "source": [
    "def subtraction():\n",
    "    a=10\n",
    "    b=5\n",
    "    c=a+b\n",
    "    print(\"c=\", c)"
   ]
  },
  {
   "cell_type": "code",
   "execution_count": 25,
   "id": "dc5cf3f0",
   "metadata": {},
   "outputs": [
    {
     "name": "stdout",
     "output_type": "stream",
     "text": [
      "c= 15\n"
     ]
    }
   ],
   "source": [
    "subtraction()"
   ]
  },
  {
   "cell_type": "code",
   "execution_count": 27,
   "id": "bcd91607",
   "metadata": {},
   "outputs": [],
   "source": [
    "def powerfun():\n",
    "    x=5\n",
    "    print(\"The square of\", x, \"is\", x**2)"
   ]
  },
  {
   "cell_type": "code",
   "execution_count": 28,
   "id": "786d14c0",
   "metadata": {},
   "outputs": [
    {
     "name": "stdout",
     "output_type": "stream",
     "text": [
      "The square of 5 is 25\n"
     ]
    }
   ],
   "source": [
    "powerfun()"
   ]
  },
  {
   "cell_type": "code",
   "execution_count": 29,
   "id": "27a6489e",
   "metadata": {},
   "outputs": [],
   "source": [
    "def myaddition():\n",
    "    x=int(input(\"Enter any no\"))\n",
    "    y=int(input(\"Enter any no\"))\n",
    "    result=x+y\n",
    "    print(\"The value of addition=\", result)"
   ]
  },
  {
   "cell_type": "code",
   "execution_count": 30,
   "id": "f14905dc",
   "metadata": {},
   "outputs": [
    {
     "name": "stdout",
     "output_type": "stream",
     "text": [
      "Enter any no6\n",
      "Enter any no9\n",
      "The value of addition= 15\n"
     ]
    }
   ],
   "source": [
    "myaddition()"
   ]
  },
  {
   "cell_type": "markdown",
   "id": "0c44edc8",
   "metadata": {},
   "source": [
    "Parametric function"
   ]
  },
  {
   "cell_type": "code",
   "execution_count": 31,
   "id": "f2ee24b5",
   "metadata": {},
   "outputs": [],
   "source": [
    "def addition2(a,b):\n",
    "    c=a+b\n",
    "    print(\"The value of c=\", c)"
   ]
  },
  {
   "cell_type": "code",
   "execution_count": 32,
   "id": "7f8dd86e",
   "metadata": {},
   "outputs": [
    {
     "name": "stdout",
     "output_type": "stream",
     "text": [
      "The value of c= 4\n"
     ]
    }
   ],
   "source": [
    "a=2\n",
    "b=2\n",
    "addition2(a,b)"
   ]
  },
  {
   "cell_type": "code",
   "execution_count": 38,
   "id": "58cf88fb",
   "metadata": {},
   "outputs": [],
   "source": [
    "def areaofcircle(radius):\n",
    "    pi=3.14\n",
    "    area=pi*(radius**2)\n",
    "    print(\"The area of circle with radius=\", radius,\"=\", area)"
   ]
  },
  {
   "cell_type": "code",
   "execution_count": 39,
   "id": "9e54de3d",
   "metadata": {},
   "outputs": [
    {
     "name": "stdout",
     "output_type": "stream",
     "text": [
      "Enter any no54\n",
      "The area of circle with radius= 54 = 9156.24\n"
     ]
    }
   ],
   "source": [
    "radius=int(input(\"Enter any no\"))\n",
    "areaofcircle(radius)\n"
   ]
  },
  {
   "cell_type": "markdown",
   "id": "15854ee0",
   "metadata": {},
   "source": [
    "Area of Rectangle"
   ]
  },
  {
   "cell_type": "code",
   "execution_count": 40,
   "id": "38ba8d87",
   "metadata": {},
   "outputs": [],
   "source": [
    "def area_of_rectangle(length,breadth):\n",
    "    area=length*breadth\n",
    "    print(\"Area of Rectangle=\", area)"
   ]
  },
  {
   "cell_type": "code",
   "execution_count": 41,
   "id": "7f6e9f58",
   "metadata": {},
   "outputs": [
    {
     "name": "stdout",
     "output_type": "stream",
     "text": [
      "Area of Rectangle= 560\n"
     ]
    }
   ],
   "source": [
    "length=70\n",
    "breadth=8\n",
    "area_of_rectangle(length,breadth)"
   ]
  },
  {
   "cell_type": "code",
   "execution_count": 42,
   "id": "0f9f3868",
   "metadata": {},
   "outputs": [],
   "source": [
    "def runfor_function():\n",
    "    for i in range(1,11):\n",
    "        print(i)"
   ]
  },
  {
   "cell_type": "code",
   "execution_count": 43,
   "id": "d84c442f",
   "metadata": {},
   "outputs": [
    {
     "name": "stdout",
     "output_type": "stream",
     "text": [
      "1\n",
      "2\n",
      "3\n",
      "4\n",
      "5\n",
      "6\n",
      "7\n",
      "8\n",
      "9\n",
      "10\n"
     ]
    }
   ],
   "source": [
    "runfor_function()"
   ]
  },
  {
   "cell_type": "code",
   "execution_count": 45,
   "id": "c1aebdc2",
   "metadata": {},
   "outputs": [],
   "source": [
    "def add():\n",
    "    a=30\n",
    "    b=4\n",
    "    result=a*b\n",
    "    print(result)\n",
    "    return result"
   ]
  },
  {
   "cell_type": "code",
   "execution_count": 46,
   "id": "722ccc9b",
   "metadata": {},
   "outputs": [
    {
     "name": "stdout",
     "output_type": "stream",
     "text": [
      "120\n"
     ]
    },
    {
     "data": {
      "text/plain": [
       "120"
      ]
     },
     "execution_count": 46,
     "metadata": {},
     "output_type": "execute_result"
    }
   ],
   "source": [
    "add()"
   ]
  },
  {
   "cell_type": "code",
   "execution_count": 51,
   "id": "06283c07",
   "metadata": {},
   "outputs": [
    {
     "name": "stdout",
     "output_type": "stream",
     "text": [
      "120\n"
     ]
    }
   ],
   "source": [
    "res=add()"
   ]
  },
  {
   "cell_type": "code",
   "execution_count": 52,
   "id": "32f4dc8a",
   "metadata": {},
   "outputs": [
    {
     "data": {
      "text/plain": [
       "120"
      ]
     },
     "execution_count": 52,
     "metadata": {},
     "output_type": "execute_result"
    }
   ],
   "source": [
    "res"
   ]
  },
  {
   "cell_type": "code",
   "execution_count": 53,
   "id": "7b117393",
   "metadata": {},
   "outputs": [],
   "source": [
    "def subtract(res):\n",
    "    g=8\n",
    "    value=res-g\n",
    "    print(value)"
   ]
  },
  {
   "cell_type": "code",
   "execution_count": 54,
   "id": "b60435d7",
   "metadata": {},
   "outputs": [
    {
     "name": "stdout",
     "output_type": "stream",
     "text": [
      "112\n"
     ]
    }
   ],
   "source": [
    "subtract(res)"
   ]
  },
  {
   "cell_type": "markdown",
   "id": "d751365b",
   "metadata": {},
   "source": [
    "Local Variable"
   ]
  },
  {
   "cell_type": "code",
   "execution_count": 47,
   "id": "a01b2944",
   "metadata": {},
   "outputs": [],
   "source": [
    "def testf():\n",
    "    p=5\n",
    "    print(p)"
   ]
  },
  {
   "cell_type": "code",
   "execution_count": 48,
   "id": "54f16697",
   "metadata": {},
   "outputs": [
    {
     "name": "stdout",
     "output_type": "stream",
     "text": [
      "5\n"
     ]
    }
   ],
   "source": [
    "testf()"
   ]
  },
  {
   "cell_type": "code",
   "execution_count": 49,
   "id": "1d5331a8",
   "metadata": {},
   "outputs": [
    {
     "ename": "NameError",
     "evalue": "name 'p' is not defined",
     "output_type": "error",
     "traceback": [
      "\u001b[1;31m---------------------------------------------------------------------------\u001b[0m",
      "\u001b[1;31mNameError\u001b[0m                                 Traceback (most recent call last)",
      "\u001b[1;32mC:\\Users\\BABLIM~1\\AppData\\Local\\Temp/ipykernel_16016/626125819.py\u001b[0m in \u001b[0;36m<module>\u001b[1;34m\u001b[0m\n\u001b[1;32m----> 1\u001b[1;33m \u001b[0mp\u001b[0m\u001b[1;33m\u001b[0m\u001b[1;33m\u001b[0m\u001b[0m\n\u001b[0m",
      "\u001b[1;31mNameError\u001b[0m: name 'p' is not defined"
     ]
    }
   ],
   "source": [
    "p"
   ]
  },
  {
   "cell_type": "code",
   "execution_count": null,
   "id": "ace52b21",
   "metadata": {},
   "outputs": [],
   "source": []
  },
  {
   "cell_type": "code",
   "execution_count": null,
   "id": "5ef73a3e",
   "metadata": {},
   "outputs": [],
   "source": []
  },
  {
   "cell_type": "code",
   "execution_count": null,
   "id": "64a5c93f",
   "metadata": {},
   "outputs": [],
   "source": []
  }
 ],
 "metadata": {
  "kernelspec": {
   "display_name": "Python 3 (ipykernel)",
   "language": "python",
   "name": "python3"
  },
  "language_info": {
   "codemirror_mode": {
    "name": "ipython",
    "version": 3
   },
   "file_extension": ".py",
   "mimetype": "text/x-python",
   "name": "python",
   "nbconvert_exporter": "python",
   "pygments_lexer": "ipython3",
   "version": "3.9.7"
  }
 },
 "nbformat": 4,
 "nbformat_minor": 5
}
